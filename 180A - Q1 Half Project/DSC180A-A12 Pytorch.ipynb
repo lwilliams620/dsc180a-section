{
 "cells": [
  {
   "cell_type": "code",
   "execution_count": 1,
   "metadata": {},
   "outputs": [],
   "source": [
    "###### import packags\n",
    "import argparse\n",
    "import torch\n",
    "import torch.nn as nn\n",
    "import torch.nn.functional as F\n",
    "import torch.optim as optim\n",
    "import numpy as np\n",
    "from torchvision import datasets, transforms\n",
    "from torch.optim.lr_scheduler import StepLR, CosineAnnealingLR"
   ]
  },
  {
   "cell_type": "code",
   "execution_count": 2,
   "metadata": {},
   "outputs": [
    {
     "name": "stdout",
     "output_type": "stream",
     "text": [
      "tensor([ 1., -1.,  1.], grad_fn=<AddBackward0>)\n",
      "tensor([1., 1., 0.])\n"
     ]
    }
   ],
   "source": [
    "# test binary_quantization function\n",
    "def binary_quantization(x):\n",
    "    # x_back is the actual tensor for gradient computation\n",
    "    # while sign(x) is the forwarded tensor\n",
    "    # detach() can eliminate the gradient\n",
    "    x_back = torch.clamp(x, -1, 1)\n",
    "    return (torch.sign(x) - x_back).detach() + x_back\n",
    "\n",
    "\n",
    "x = torch.tensor([0.4, -0.5, 1.6]).requires_grad_()\n",
    "x_bin = binary_quantization(x)\n",
    "# print the result after binarization\n",
    "print(x_bin)\n",
    "y = x_bin.sum()\n",
    "y.backward()\n",
    "# print the gradient of x\n",
    "print(x.grad)\n",
    "\n",
    "#Feeforwarding: quantize all positive numbers in tensor to 1, and negative numbers to -1,\n",
    "#Backpropagation: results as the gradient of tensor is 1 in the range of -1 to 1, and the rest is 0"
   ]
  },
  {
   "cell_type": "code",
   "execution_count": 3,
   "metadata": {},
   "outputs": [
    {
     "name": "stdout",
     "output_type": "stream",
     "text": [
      "tensor([[[[ 0.0879, -0.0779,  0.0986],\n",
      "          [ 0.0397,  0.1378, -0.0068],\n",
      "          [-0.1326, -0.0492, -0.0449]],\n",
      "\n",
      "         [[-0.0937, -0.0988,  0.0304],\n",
      "          [ 0.1343, -0.1387, -0.0684],\n",
      "          [-0.0911, -0.0878,  0.0209]],\n",
      "\n",
      "         [[ 0.0025,  0.0085,  0.1308],\n",
      "          [ 0.0674,  0.0226,  0.1154],\n",
      "          [-0.1293,  0.0233, -0.1071]],\n",
      "\n",
      "         [[-0.0909,  0.1374, -0.1335],\n",
      "          [ 0.0199, -0.0139, -0.1298],\n",
      "          [-0.1239,  0.0070,  0.0467]],\n",
      "\n",
      "         [[-0.0936,  0.0970,  0.0071],\n",
      "          [-0.0998, -0.0025, -0.0651],\n",
      "          [-0.1188,  0.1237,  0.1190]]],\n",
      "\n",
      "\n",
      "        [[[ 0.0081, -0.0452,  0.1301],\n",
      "          [-0.1139, -0.0137, -0.0124],\n",
      "          [ 0.0408, -0.0659, -0.0542]],\n",
      "\n",
      "         [[ 0.0598,  0.0769, -0.0684],\n",
      "          [ 0.0200,  0.1046, -0.0009],\n",
      "          [ 0.0560,  0.1162,  0.0274]],\n",
      "\n",
      "         [[-0.1379, -0.1167,  0.0161],\n",
      "          [-0.1301,  0.0041,  0.0819],\n",
      "          [-0.0137,  0.1471, -0.0768]],\n",
      "\n",
      "         [[-0.0921, -0.0459,  0.1047],\n",
      "          [ 0.0660, -0.1000,  0.0670],\n",
      "          [ 0.0292, -0.1384, -0.1463]],\n",
      "\n",
      "         [[ 0.1186,  0.0150, -0.1150],\n",
      "          [-0.1209, -0.0889, -0.1254],\n",
      "          [ 0.0102,  0.1209, -0.1128]]],\n",
      "\n",
      "\n",
      "        [[[ 0.0632,  0.0326, -0.0153],\n",
      "          [-0.0050,  0.1402, -0.0403],\n",
      "          [-0.1048,  0.0149, -0.1475]],\n",
      "\n",
      "         [[-0.1135, -0.1233, -0.0949],\n",
      "          [-0.0263,  0.0696,  0.1218],\n",
      "          [ 0.1432, -0.0625, -0.1467]],\n",
      "\n",
      "         [[-0.0633, -0.1268,  0.0037],\n",
      "          [-0.0306, -0.1443, -0.0369],\n",
      "          [ 0.0489,  0.0039,  0.0825]],\n",
      "\n",
      "         [[ 0.0741,  0.0586,  0.0450],\n",
      "          [-0.1168,  0.0025,  0.1196],\n",
      "          [-0.1186,  0.0122, -0.0589]],\n",
      "\n",
      "         [[ 0.1297,  0.0990,  0.0787],\n",
      "          [-0.1379, -0.1266, -0.1034],\n",
      "          [-0.1067,  0.0133,  0.0952]]],\n",
      "\n",
      "\n",
      "        [[[ 0.0864,  0.0718, -0.1123],\n",
      "          [-0.0366, -0.1437, -0.1132],\n",
      "          [ 0.1309, -0.0138,  0.1078]],\n",
      "\n",
      "         [[-0.0747, -0.1084,  0.0545],\n",
      "          [ 0.1389, -0.0320, -0.1199],\n",
      "          [-0.1254,  0.1189, -0.0938]],\n",
      "\n",
      "         [[ 0.0380, -0.1036, -0.1237],\n",
      "          [ 0.0803, -0.0951, -0.1083],\n",
      "          [ 0.0691,  0.0585, -0.0067]],\n",
      "\n",
      "         [[-0.0010,  0.1172,  0.0168],\n",
      "          [-0.0272, -0.1271,  0.0255],\n",
      "          [-0.1143, -0.1433,  0.1181]],\n",
      "\n",
      "         [[-0.1404,  0.0778, -0.0337],\n",
      "          [-0.0446,  0.0102,  0.1308],\n",
      "          [ 0.0093, -0.0109,  0.0772]]],\n",
      "\n",
      "\n",
      "        [[[ 0.0832,  0.0970,  0.0891],\n",
      "          [ 0.1434, -0.0720, -0.0082],\n",
      "          [ 0.0892,  0.1037,  0.0934]],\n",
      "\n",
      "         [[ 0.1288, -0.1005,  0.0793],\n",
      "          [-0.0689, -0.0736, -0.1241],\n",
      "          [ 0.0884,  0.1054,  0.0215]],\n",
      "\n",
      "         [[-0.1083,  0.0650, -0.1232],\n",
      "          [ 0.0715,  0.0981, -0.0865],\n",
      "          [ 0.0197, -0.0327, -0.1449]],\n",
      "\n",
      "         [[-0.0716, -0.0394,  0.1419],\n",
      "          [-0.0762,  0.0784,  0.1487],\n",
      "          [ 0.0837, -0.0405, -0.0617]],\n",
      "\n",
      "         [[ 0.0168, -0.0233, -0.1491],\n",
      "          [ 0.1390,  0.0606, -0.1159],\n",
      "          [ 0.0597,  0.0676, -0.0261]]],\n",
      "\n",
      "\n",
      "        [[[-0.0376, -0.0622, -0.0109],\n",
      "          [ 0.0417, -0.0093,  0.0324],\n",
      "          [ 0.0244,  0.0495,  0.0834]],\n",
      "\n",
      "         [[ 0.0653, -0.0330,  0.0534],\n",
      "          [ 0.1450,  0.0308, -0.1149],\n",
      "          [ 0.0762,  0.0665, -0.1222]],\n",
      "\n",
      "         [[-0.0720,  0.0118,  0.0575],\n",
      "          [-0.1490,  0.0677,  0.1198],\n",
      "          [ 0.0650, -0.0345, -0.0039]],\n",
      "\n",
      "         [[-0.1225, -0.0143,  0.1129],\n",
      "          [-0.1082, -0.0622,  0.1355],\n",
      "          [ 0.0787, -0.1446, -0.0976]],\n",
      "\n",
      "         [[ 0.1350, -0.0660,  0.0633],\n",
      "          [-0.0465, -0.0697, -0.0382],\n",
      "          [-0.0466,  0.0688,  0.0541]]],\n",
      "\n",
      "\n",
      "        [[[ 0.0656,  0.0368, -0.1019],\n",
      "          [ 0.0278, -0.0027, -0.0574],\n",
      "          [ 0.0553, -0.1251,  0.0812]],\n",
      "\n",
      "         [[-0.0938,  0.1350, -0.0066],\n",
      "          [-0.0648,  0.0607,  0.0159],\n",
      "          [-0.1080, -0.1043,  0.0171]],\n",
      "\n",
      "         [[-0.0960,  0.1293,  0.1385],\n",
      "          [ 0.1445,  0.1209,  0.0154],\n",
      "          [-0.1307,  0.0951,  0.0592]],\n",
      "\n",
      "         [[-0.0888,  0.0541,  0.0867],\n",
      "          [-0.1100, -0.0360, -0.1236],\n",
      "          [ 0.1050,  0.0735,  0.0546]],\n",
      "\n",
      "         [[ 0.1263,  0.0675,  0.1393],\n",
      "          [-0.1007, -0.1268,  0.0930],\n",
      "          [ 0.0435,  0.1037,  0.0893]]],\n",
      "\n",
      "\n",
      "        [[[-0.0295, -0.0546,  0.1138],\n",
      "          [ 0.0177, -0.0883,  0.1439],\n",
      "          [-0.1373,  0.1150, -0.1155]],\n",
      "\n",
      "         [[ 0.0775,  0.0928, -0.0307],\n",
      "          [-0.0148,  0.0269,  0.0997],\n",
      "          [ 0.0843,  0.0773,  0.0916]],\n",
      "\n",
      "         [[-0.1425,  0.0889, -0.0647],\n",
      "          [-0.0632,  0.1456, -0.0462],\n",
      "          [-0.0361, -0.1340, -0.0043]],\n",
      "\n",
      "         [[-0.0449, -0.1291, -0.0540],\n",
      "          [-0.0869, -0.1469, -0.0894],\n",
      "          [-0.0646, -0.0774, -0.0388]],\n",
      "\n",
      "         [[ 0.0625,  0.1465, -0.0953],\n",
      "          [ 0.1491, -0.1060, -0.0608],\n",
      "          [ 0.1105, -0.1353,  0.1163]]],\n",
      "\n",
      "\n",
      "        [[[ 0.1475,  0.0417, -0.0318],\n",
      "          [-0.0669, -0.1230,  0.0373],\n",
      "          [ 0.0732, -0.0425, -0.0737]],\n",
      "\n",
      "         [[ 0.0988, -0.1446, -0.0112],\n",
      "          [-0.0260,  0.0500,  0.0776],\n",
      "          [-0.0332,  0.0162,  0.0893]],\n",
      "\n",
      "         [[-0.0092,  0.1431, -0.1368],\n",
      "          [-0.1093,  0.0643, -0.0953],\n",
      "          [ 0.0934,  0.0368, -0.0179]],\n",
      "\n",
      "         [[ 0.0140, -0.1417, -0.0103],\n",
      "          [-0.0515,  0.0037,  0.1260],\n",
      "          [ 0.1265, -0.0853, -0.0162]],\n",
      "\n",
      "         [[ 0.1344,  0.0190, -0.0453],\n",
      "          [-0.0396, -0.0810,  0.0303],\n",
      "          [-0.1001, -0.1084,  0.0505]]],\n",
      "\n",
      "\n",
      "        [[[ 0.0372,  0.1012, -0.0316],\n",
      "          [ 0.1346,  0.1383, -0.1451],\n",
      "          [ 0.1444,  0.0563,  0.1164]],\n",
      "\n",
      "         [[-0.0156, -0.0631,  0.0614],\n",
      "          [-0.0695,  0.1436, -0.1045],\n",
      "          [-0.1045,  0.0511, -0.0332]],\n",
      "\n",
      "         [[ 0.0574,  0.0687,  0.0299],\n",
      "          [-0.0505,  0.0116, -0.0672],\n",
      "          [-0.1059,  0.1306,  0.1320]],\n",
      "\n",
      "         [[ 0.0918,  0.0287, -0.0329],\n",
      "          [-0.0815, -0.1204,  0.0909],\n",
      "          [-0.0421, -0.0385,  0.1275]],\n",
      "\n",
      "         [[ 0.0140,  0.0384,  0.0926],\n",
      "          [-0.1062, -0.0877, -0.0497],\n",
      "          [ 0.0182,  0.0071, -0.0788]]]])\n",
      "tensor([[[[ 1., -1.,  1.],\n",
      "          [ 1.,  1., -1.],\n",
      "          [-1., -1., -1.]],\n",
      "\n",
      "         [[-1., -1.,  1.],\n",
      "          [ 1., -1., -1.],\n",
      "          [-1., -1.,  1.]],\n",
      "\n",
      "         [[ 1.,  1.,  1.],\n",
      "          [ 1.,  1.,  1.],\n",
      "          [-1.,  1., -1.]],\n",
      "\n",
      "         [[-1.,  1., -1.],\n",
      "          [ 1., -1., -1.],\n",
      "          [-1.,  1.,  1.]],\n",
      "\n",
      "         [[-1.,  1.,  1.],\n",
      "          [-1., -1., -1.],\n",
      "          [-1.,  1.,  1.]]],\n",
      "\n",
      "\n",
      "        [[[ 1., -1.,  1.],\n",
      "          [-1., -1., -1.],\n",
      "          [ 1., -1., -1.]],\n",
      "\n",
      "         [[ 1.,  1., -1.],\n",
      "          [ 1.,  1., -1.],\n",
      "          [ 1.,  1.,  1.]],\n",
      "\n",
      "         [[-1., -1.,  1.],\n",
      "          [-1.,  1.,  1.],\n",
      "          [-1.,  1., -1.]],\n",
      "\n",
      "         [[-1., -1.,  1.],\n",
      "          [ 1., -1.,  1.],\n",
      "          [ 1., -1., -1.]],\n",
      "\n",
      "         [[ 1.,  1., -1.],\n",
      "          [-1., -1., -1.],\n",
      "          [ 1.,  1., -1.]]],\n",
      "\n",
      "\n",
      "        [[[ 1.,  1., -1.],\n",
      "          [-1.,  1., -1.],\n",
      "          [-1.,  1., -1.]],\n",
      "\n",
      "         [[-1., -1., -1.],\n",
      "          [-1.,  1.,  1.],\n",
      "          [ 1., -1., -1.]],\n",
      "\n",
      "         [[-1., -1.,  1.],\n",
      "          [-1., -1., -1.],\n",
      "          [ 1.,  1.,  1.]],\n",
      "\n",
      "         [[ 1.,  1.,  1.],\n",
      "          [-1.,  1.,  1.],\n",
      "          [-1.,  1., -1.]],\n",
      "\n",
      "         [[ 1.,  1.,  1.],\n",
      "          [-1., -1., -1.],\n",
      "          [-1.,  1.,  1.]]],\n",
      "\n",
      "\n",
      "        [[[ 1.,  1., -1.],\n",
      "          [-1., -1., -1.],\n",
      "          [ 1., -1.,  1.]],\n",
      "\n",
      "         [[-1., -1.,  1.],\n",
      "          [ 1., -1., -1.],\n",
      "          [-1.,  1., -1.]],\n",
      "\n",
      "         [[ 1., -1., -1.],\n",
      "          [ 1., -1., -1.],\n",
      "          [ 1.,  1., -1.]],\n",
      "\n",
      "         [[-1.,  1.,  1.],\n",
      "          [-1., -1.,  1.],\n",
      "          [-1., -1.,  1.]],\n",
      "\n",
      "         [[-1.,  1., -1.],\n",
      "          [-1.,  1.,  1.],\n",
      "          [ 1., -1.,  1.]]],\n",
      "\n",
      "\n",
      "        [[[ 1.,  1.,  1.],\n",
      "          [ 1., -1., -1.],\n",
      "          [ 1.,  1.,  1.]],\n",
      "\n",
      "         [[ 1., -1.,  1.],\n",
      "          [-1., -1., -1.],\n",
      "          [ 1.,  1.,  1.]],\n",
      "\n",
      "         [[-1.,  1., -1.],\n",
      "          [ 1.,  1., -1.],\n",
      "          [ 1., -1., -1.]],\n",
      "\n",
      "         [[-1., -1.,  1.],\n",
      "          [-1.,  1.,  1.],\n",
      "          [ 1., -1., -1.]],\n",
      "\n",
      "         [[ 1., -1., -1.],\n",
      "          [ 1.,  1., -1.],\n",
      "          [ 1.,  1., -1.]]],\n",
      "\n",
      "\n",
      "        [[[-1., -1., -1.],\n",
      "          [ 1., -1.,  1.],\n",
      "          [ 1.,  1.,  1.]],\n",
      "\n",
      "         [[ 1., -1.,  1.],\n",
      "          [ 1.,  1., -1.],\n",
      "          [ 1.,  1., -1.]],\n",
      "\n",
      "         [[-1.,  1.,  1.],\n",
      "          [-1.,  1.,  1.],\n",
      "          [ 1., -1., -1.]],\n",
      "\n",
      "         [[-1., -1.,  1.],\n",
      "          [-1., -1.,  1.],\n",
      "          [ 1., -1., -1.]],\n",
      "\n",
      "         [[ 1., -1.,  1.],\n",
      "          [-1., -1., -1.],\n",
      "          [-1.,  1.,  1.]]],\n",
      "\n",
      "\n",
      "        [[[ 1.,  1., -1.],\n",
      "          [ 1., -1., -1.],\n",
      "          [ 1., -1.,  1.]],\n",
      "\n",
      "         [[-1.,  1., -1.],\n",
      "          [-1.,  1.,  1.],\n",
      "          [-1., -1.,  1.]],\n",
      "\n",
      "         [[-1.,  1.,  1.],\n",
      "          [ 1.,  1.,  1.],\n",
      "          [-1.,  1.,  1.]],\n",
      "\n",
      "         [[-1.,  1.,  1.],\n",
      "          [-1., -1., -1.],\n",
      "          [ 1.,  1.,  1.]],\n",
      "\n",
      "         [[ 1.,  1.,  1.],\n",
      "          [-1., -1.,  1.],\n",
      "          [ 1.,  1.,  1.]]],\n",
      "\n",
      "\n",
      "        [[[-1., -1.,  1.],\n",
      "          [ 1., -1.,  1.],\n",
      "          [-1.,  1., -1.]],\n",
      "\n",
      "         [[ 1.,  1., -1.],\n",
      "          [-1.,  1.,  1.],\n",
      "          [ 1.,  1.,  1.]],\n",
      "\n",
      "         [[-1.,  1., -1.],\n",
      "          [-1.,  1., -1.],\n",
      "          [-1., -1., -1.]],\n",
      "\n",
      "         [[-1., -1., -1.],\n",
      "          [-1., -1., -1.],\n",
      "          [-1., -1., -1.]],\n",
      "\n",
      "         [[ 1.,  1., -1.],\n",
      "          [ 1., -1., -1.],\n",
      "          [ 1., -1.,  1.]]],\n",
      "\n",
      "\n",
      "        [[[ 1.,  1., -1.],\n",
      "          [-1., -1.,  1.],\n",
      "          [ 1., -1., -1.]],\n",
      "\n",
      "         [[ 1., -1., -1.],\n",
      "          [-1.,  1.,  1.],\n",
      "          [-1.,  1.,  1.]],\n",
      "\n",
      "         [[-1.,  1., -1.],\n",
      "          [-1.,  1., -1.],\n",
      "          [ 1.,  1., -1.]],\n",
      "\n",
      "         [[ 1., -1., -1.],\n",
      "          [-1.,  1.,  1.],\n",
      "          [ 1., -1., -1.]],\n",
      "\n",
      "         [[ 1.,  1., -1.],\n",
      "          [-1., -1.,  1.],\n",
      "          [-1., -1.,  1.]]],\n",
      "\n",
      "\n",
      "        [[[ 1.,  1., -1.],\n",
      "          [ 1.,  1., -1.],\n",
      "          [ 1.,  1.,  1.]],\n",
      "\n",
      "         [[-1., -1.,  1.],\n",
      "          [-1.,  1., -1.],\n",
      "          [-1.,  1., -1.]],\n",
      "\n",
      "         [[ 1.,  1.,  1.],\n",
      "          [-1.,  1., -1.],\n",
      "          [-1.,  1.,  1.]],\n",
      "\n",
      "         [[ 1.,  1., -1.],\n",
      "          [-1., -1.,  1.],\n",
      "          [-1., -1.,  1.]],\n",
      "\n",
      "         [[ 1.,  1.,  1.],\n",
      "          [-1., -1., -1.],\n",
      "          [ 1.,  1., -1.]]]])\n"
     ]
    }
   ],
   "source": [
    "# test binary convolutional function\n",
    "# define binary convolutional layer\n",
    "class BinConv2d(nn.Conv2d):\n",
    "    def __init__(self, in_channels, out_channels, kernel_size, stride=1, padding=0, dilation=1, groups=1, bias=False):\n",
    "        super(BinConv2d, self).__init__(in_channels, out_channels, kernel_size, stride, padding, dilation, groups,\n",
    "                                        bias)\n",
    "\n",
    "    def forward(self, x):\n",
    "        weight = binary_quantization(self.weight)\n",
    "        return F.conv2d(x, weight, self.bias, self.stride, self.padding, self.dilation, self.groups)\n",
    "\n",
    "# define a Binary convolution in input channel = 5，output channel = 10，kernelsize = 3\n",
    "binary_conv = BinConv2d(5, 10, 3, 1)\n",
    "print(binary_conv.weight.data)   # Print the value of convolution\n",
    "print(binary_quantization(binary_conv.weight.data))   # Print the binarized convolution, in weight value"
   ]
  },
  {
   "cell_type": "code",
   "execution_count": 4,
   "metadata": {},
   "outputs": [
    {
     "name": "stdout",
     "output_type": "stream",
     "text": [
      "tensor([[ 0.3899, -0.1944,  0.3336, -0.1449, -0.0382],\n",
      "        [-0.2908, -0.4435, -0.2903,  0.1702,  0.2086],\n",
      "        [-0.1402, -0.0730, -0.3628, -0.4015,  0.0336],\n",
      "        [-0.0954,  0.0343, -0.2211,  0.1324,  0.4398],\n",
      "        [ 0.0139, -0.2486, -0.0754, -0.4298,  0.4461],\n",
      "        [-0.2202, -0.0181,  0.3538, -0.4103,  0.3067],\n",
      "        [-0.1179,  0.2920, -0.2143,  0.3434,  0.1513],\n",
      "        [ 0.4201, -0.2947, -0.3585,  0.0773, -0.3199],\n",
      "        [ 0.1575,  0.4039, -0.1190,  0.2671,  0.3864],\n",
      "        [ 0.3815, -0.2374, -0.4158, -0.2824,  0.2415]])\n",
      "tensor([[ 1., -1.,  1., -1., -1.],\n",
      "        [-1., -1., -1.,  1.,  1.],\n",
      "        [-1., -1., -1., -1.,  1.],\n",
      "        [-1.,  1., -1.,  1.,  1.],\n",
      "        [ 1., -1., -1., -1.,  1.],\n",
      "        [-1., -1.,  1., -1.,  1.],\n",
      "        [-1.,  1., -1.,  1.,  1.],\n",
      "        [ 1., -1., -1.,  1., -1.],\n",
      "        [ 1.,  1., -1.,  1.,  1.],\n",
      "        [ 1., -1., -1., -1.,  1.]])\n"
     ]
    }
   ],
   "source": [
    "# test binary fully-connected function\n",
    "# define binary fully-connected layer\n",
    "class BinLinear(nn.Linear):\n",
    "    def __init__(self, in_features, out_features, bias=True):\n",
    "        super(BinLinear, self).__init__(in_features, out_features, bias=True)\n",
    "\n",
    "    def forward(self, x):\n",
    "        weight = binary_quantization(self.weight)\n",
    "        return F.linear(x, weight, self.bias)\n",
    "\n",
    "# Define a binary fully connected layer with an input channel of 5 and an output channel of 10\n",
    "binary_conv = BinLinear(5, 10)\n",
    "print(binary_conv.weight.data)   # Print the value of this fully connected weight\n",
    "print(binary_quantization(binary_conv.weight.data))   # Print the binarized weight"
   ]
  },
  {
   "cell_type": "code",
   "execution_count": 5,
   "metadata": {},
   "outputs": [
    {
     "name": "stdout",
     "output_type": "stream",
     "text": [
      "tensor([ 0.5000, -0.5000,  2.0000])\n"
     ]
    }
   ],
   "source": [
    "# define LogAP2 function\n",
    "def LogAP2(x, eps=0.0):\n",
    "    # implement Most Significant Bit according to the paper\n",
    "    return torch.sign(x) * 2 ** (torch.round(torch.log2(x.abs() + eps)))\n",
    "\n",
    "# The purpose of this function is to convert any floating-point number x to its nearest second power 2^n，\n",
    "# That is, for any x, we find n such that the difference between the nth power of 2 and x is the smallest\n",
    "\n",
    "x = torch.tensor([0.4, -0.5, 1.6])\n",
    "print(LogAP2(x))\n",
    "\n",
    "# When x is abnormally small, this function will overflow due to Log, so we add eps"
   ]
  },
  {
   "cell_type": "code",
   "execution_count": 6,
   "metadata": {},
   "outputs": [
    {
     "name": "stdout",
     "output_type": "stream",
     "text": [
      "tensor([-4.2608e-08,  1.4901e-08,  3.7253e-09,  1.2806e-08,  4.0978e-08,\n",
      "         3.2596e-08,  3.3528e-08, -1.5832e-08, -3.9290e-08, -3.6322e-08,\n",
      "        -4.6566e-09, -3.9116e-08, -7.9162e-08, -4.6566e-09, -7.1013e-09,\n",
      "        -3.1665e-08, -3.4925e-08,  3.8417e-08, -1.3970e-08, -1.0245e-08,\n",
      "         8.3819e-09, -4.5169e-08,  3.7253e-08,  1.4901e-08,  2.1420e-08,\n",
      "         3.7253e-08,  2.7940e-08,  4.2841e-08,  5.2154e-08,  1.6531e-08,\n",
      "         7.4506e-09,  3.2131e-08,  1.4901e-08,  3.7253e-08,  4.3772e-08,\n",
      "        -4.2841e-08,  7.9162e-09, -5.2154e-08, -5.1223e-08, -8.3819e-09,\n",
      "         0.0000e+00,  3.9814e-08,  3.8184e-08, -2.6659e-08,  1.9558e-08,\n",
      "         4.3306e-08, -5.4948e-08,  5.5879e-09,  1.5367e-08,  2.6077e-08,\n",
      "         2.5611e-08,  2.7008e-08,  1.1642e-08,  7.4506e-09,  4.2841e-08,\n",
      "        -1.5832e-08,  1.4901e-08, -5.4250e-08,  3.0734e-08,  3.2131e-08,\n",
      "        -4.8429e-08,  1.3039e-08, -1.4901e-08,  1.4901e-08])\n",
      "tensor([0.5909, 0.5210, 0.5549, 0.5710, 0.6090, 0.5835, 0.5685, 0.5852, 0.5612,\n",
      "        0.5811, 0.5320, 0.5912, 0.5747, 0.5720, 0.5852, 0.5598, 0.5453, 0.5353,\n",
      "        0.6081, 0.5167, 0.5715, 0.6046, 0.5120, 0.5538, 0.5700, 0.5440, 0.5959,\n",
      "        0.5585, 0.5566, 0.5928, 0.5531, 0.5377, 0.5342, 0.5868, 0.5956, 0.5552,\n",
      "        0.5273, 0.5434, 0.5519, 0.6125, 0.5523, 0.5100, 0.5213, 0.5439, 0.5589,\n",
      "        0.5393, 0.5792, 0.6018, 0.5673, 0.5623, 0.5813, 0.6136, 0.5567, 0.5915,\n",
      "        0.5817, 0.5438, 0.5592, 0.5801, 0.5665, 0.5689, 0.5604, 0.5146, 0.5456,\n",
      "        0.5743])\n",
      "tensor([0.9719, 0.9926, 0.9699, 0.9913, 0.9754, 0.9900, 0.9759, 0.9666, 0.9836,\n",
      "        0.9845, 0.9856, 0.9778, 0.9850, 0.9803, 0.9682, 0.9962, 0.9738, 1.0000,\n",
      "        0.9814, 0.9926, 0.9755, 0.9760, 0.9835, 0.9717, 0.9990, 0.9945, 0.9814,\n",
      "        0.9671, 0.9727, 0.9954, 0.9574, 0.9849, 0.9857, 0.9894, 0.9765, 0.9890,\n",
      "        0.9770, 0.9701, 0.9905, 0.9645, 0.9809, 0.9845, 0.9865, 0.9828, 0.9731,\n",
      "        0.9562, 0.9816, 0.9591, 0.9748, 0.9788, 0.9660, 0.9785, 0.9716, 0.9990,\n",
      "        0.9788, 0.9800, 0.9594, 0.9852, 0.9553, 0.9802, 0.9897, 0.9923, 0.9833,\n",
      "        0.9844])\n"
     ]
    }
   ],
   "source": [
    "class ShiftBatchNorm(nn.BatchNorm1d):\n",
    "    def __init__(self, channel, *args):\n",
    "        super(ShiftBatchNorm, self).__init__(channel, *args)\n",
    "\n",
    "    def round_pass(self, x):\n",
    "        # to make rounded tensor still have gradient\n",
    "        return (x.round() - x) + x\n",
    "\n",
    "    def LogAP2(self, x, eps=0.0):\n",
    "        # implement Most Significant Bit according to the paper\n",
    "        return torch.sign(x) * 2 ** (torch.round(torch.log2(x.abs() + eps)))\n",
    "\n",
    "    def get_var(self, x, mean, channel_dim):\n",
    "        # implement variance with LogAP2()\n",
    "        centerd_mean = x - mean.reshape(1, channel_dim)\n",
    "        variance = centerd_mean * self.LogAP2(centerd_mean, eps=0.0001)\n",
    "        return variance.mean([0])\n",
    "\n",
    "    def forward(self, input, round_var=True):\n",
    "        # determine the average factor and channel dimension\n",
    "        exponential_average_factor = self.momentum\n",
    "        channel_dim = input.shape[1]\n",
    "        # calculate running estimates if the model is in training\n",
    "        if self.training:\n",
    "            mean = input.mean([0])\n",
    "            var = self.get_var(input, mean, channel_dim)\n",
    "\n",
    "            # Update the running stats in Batch Normalization Layer\n",
    "            with torch.no_grad():\n",
    "                self.running_mean = exponential_average_factor * mean + (\n",
    "                            1 - exponential_average_factor) * self.running_mean\n",
    "                # update running_var with unbiased var\n",
    "                self.running_var = exponential_average_factor * var + (\n",
    "                            1 - exponential_average_factor) * self.running_var\n",
    "        # In testing the model directly uses the running stats\n",
    "        else:\n",
    "            mean = self.running_mean\n",
    "            var = self.running_var\n",
    "\n",
    "        # calculate the normalization factor\n",
    "        div = 1 / (torch.sqrt(var.reshape(1, channel_dim) + self.eps))\n",
    "        if round_var:\n",
    "            div = self.LogAP2(div)\n",
    "        input = (input - mean.reshape(1, channel_dim)) * div  # normalize\n",
    "        return input\n",
    "    \n",
    "\n",
    "# Initialize the BatchNorm layer（channel=64）\n",
    "bn = ShiftBatchNorm(64)\n",
    "\n",
    "# Randomly create activation (Batchsize=1024, channel=64)\n",
    "x = torch.randn(1024, 64)\n",
    "\n",
    "# turn the average of activation to 3，variation to 9\n",
    "x = x * 3 + 3\n",
    "\n",
    "# Test the performance of BN\n",
    "y = bn(x)\n",
    "# Seperately print the results of average and var\n",
    "print(y.mean(0))\n",
    "print(y.var(0))\n",
    "# The reason why the variance of this is not 1 is that it was originally meant to be divided by 0.333, \n",
    "# but the LogAP2 function changed the number to be divided into 0.25, so the variance is not.\n",
    "# I set a parameter round_var, when it is set to False, the variance can be close to 1:\n",
    "y = bn(x, round_var=False)\n",
    "print(y.var(0))"
   ]
  },
  {
   "cell_type": "code",
   "execution_count": 7,
   "metadata": {},
   "outputs": [
    {
     "name": "stdout",
     "output_type": "stream",
     "text": [
      "TinyModel(\n",
      "  (conv1): BinLinear(in_features=1024, out_features=2048, bias=True)\n",
      "  (bn1): ShiftBatchNorm(2048, eps=1e-05, momentum=0.1, affine=True, track_running_stats=True)\n",
      "  (conv2): BinLinear(in_features=2048, out_features=2048, bias=True)\n",
      "  (bn2): ShiftBatchNorm(2048, eps=1e-05, momentum=0.1, affine=True, track_running_stats=True)\n",
      "  (dropout): Dropout(p=0.5, inplace=False)\n",
      "  (fc): Linear(in_features=2048, out_features=10, bias=True)\n",
      ")\n"
     ]
    }
   ],
   "source": [
    "class TinyModel(nn.Module):\n",
    "\n",
    "    def __init__(self, binarized=True, res=32, rgb=False):\n",
    "        super().__init__()\n",
    "        # define network structures\n",
    "        # if binarized is set to True,\n",
    "        # we use binary linear layer and\n",
    "        # shift batchnorm layer.\n",
    "        mult = 3 if rgb is True else 1\n",
    "        if binarized is True:\n",
    "            self.conv1 = BinLinear(res * res * mult, 2048)\n",
    "            self.bn1 = ShiftBatchNorm(2048)\n",
    "            self.conv2 = BinLinear(2048, 2048)\n",
    "            self.bn2 = ShiftBatchNorm(2048)\n",
    "        else:\n",
    "            self.conv1 = nn.Linear(res * res * mult, 2048)\n",
    "            self.bn1 = nn.BatchNorm1d(2048)\n",
    "            self.conv2 = nn.Linear(2048, 2048)\n",
    "            self.bn2 = nn.BatchNorm1d(2048)\n",
    "        self.dropout = nn.Dropout(0.5)\n",
    "        self.fc = nn.Linear(2048, 10)\n",
    "\n",
    "    def forward(self, x):\n",
    "        # Standard Conv-BN-Act block, note that the\n",
    "        # activation is not binarized for the first layer\n",
    "        # according to Section 2.6 in the paper.\n",
    "        x = x.view(x.size(0), -1)\n",
    "        x = self.conv1(x)\n",
    "        x = self.bn1(x)\n",
    "        # Binarize activation\n",
    "        x = binary_quantization(x)\n",
    "        x = self.conv2(x)\n",
    "        x = self.bn2(x)\n",
    "        x = binary_quantization(x)\n",
    "        x = self.dropout(x)\n",
    "        x = self.fc(x)\n",
    "        return x\n",
    "\n",
    "model = TinyModel()\n",
    "print(model)"
   ]
  },
  {
   "cell_type": "code",
   "execution_count": 8,
   "metadata": {},
   "outputs": [
    {
     "name": "stdout",
     "output_type": "stream",
     "text": [
      "The storage of FP model is 25.296936000000002.MB\n",
      "The storage of binary model is 0.7905292500000001.MB\n"
     ]
    }
   ],
   "source": [
    "# Model Complexity：\n",
    "\n",
    "# Full Precision Model\n",
    "\n",
    "# count the number of parameter\n",
    "num_param = sum([i.numel() for i in model.parameters()])\n",
    "\n",
    "# turn number of parameter into megabyte:  \n",
    "# *Floating point number 32 bits / 8 bits per byte / 1024 bytes to kB / 1024 bytes to MB\n",
    "MBs = num_param * 32 / 8 / 1000 / 1000\n",
    "print('The storage of FP model is {}.MB'.format(MBs))\n",
    "\n",
    "# The parameter of the binary network is 1/32 of the original network, because it only takes up one bit。\n",
    "print('The storage of binary model is {}.MB'.format(MBs/32))"
   ]
  },
  {
   "cell_type": "code",
   "execution_count": 9,
   "metadata": {},
   "outputs": [],
   "source": [
    "def train(model, device, train_loader, optimizer, epoch):\n",
    "    \"\"\"\n",
    "    Training function for binary model\n",
    "    :param model: the binary model that needs to be optimized\n",
    "    :param device: usually GPU with cuda\n",
    "    :param train_loader: data loader of training dataset\n",
    "    :param optimizer: Adam optimizer\n",
    "    :param epoch: current training epoch\n",
    "    :return: trained model\n",
    "    \"\"\"\n",
    "    model.train()\n",
    "    # start training iterating\n",
    "    for batch_idx, (data, target) in enumerate(train_loader):\n",
    "        data, target = data.to(device), target.to(device)\n",
    "        optimizer.zero_grad()\n",
    "        # forward, compute loss, backward, update loop\n",
    "        output = model(data)\n",
    "        loss = F.cross_entropy(output, target)\n",
    "        loss.backward()\n",
    "        optimizer.step()\n",
    "        if batch_idx % 100 == 0:\n",
    "            print('Train Epoch: {} [{}/{} ({:.0f}%)]\\tLoss: {:.6f}'.format(\n",
    "                epoch, batch_idx * len(data), len(train_loader.dataset),\n",
    "                       100. * batch_idx / len(train_loader), loss.item()))\n",
    "    return"
   ]
  },
  {
   "cell_type": "code",
   "execution_count": 10,
   "metadata": {},
   "outputs": [],
   "source": [
    "def test(model, device, test_loader):\n",
    "    \"\"\"\n",
    "    Test function for binary model\n",
    "    :param model: the binary model that needs to be tested\n",
    "    :param device: usually GPU with cuda\n",
    "    :param test_loader: data loader of testing dataset\n",
    "    :return:\n",
    "    \"\"\"\n",
    "    model.eval()\n",
    "    test_loss = 0\n",
    "    correct = 0\n",
    "    with torch.no_grad():  # no gradient signal during testing\n",
    "        for data, target in test_loader:\n",
    "            data, target = data.to(device), target.to(device)\n",
    "            output = model(data)\n",
    "            test_loss += F.cross_entropy(output, target, reduction='sum').item()  # sum up batch loss\n",
    "            pred = output.argmax(dim=1, keepdim=True)  # get the index of the max log-probability\n",
    "            correct += pred.eq(target.view_as(pred)).sum().item()\n",
    "\n",
    "    test_loss /= len(test_loader.dataset)\n",
    "\n",
    "    print('\\nTest set: Average loss: {:.4f}, Accuracy: {}/{} ({:.0f}%)\\n'.format(\n",
    "        test_loss, correct, len(test_loader.dataset),\n",
    "        100. * correct / len(test_loader.dataset)))\n",
    "\n",
    "\n",
    "# set the random seed for reproducibility\n",
    "seed = 1001\n",
    "torch.manual_seed(seed)\n",
    "\n",
    "device = torch.device(\"cuda\")\n",
    "\n",
    "train_kwargs = {'batch_size': 128}\n",
    "test_kwargs = {'batch_size': 100}\n",
    "\n",
    "cuda_kwargs = {'num_workers': 1,\n",
    "               'pin_memory': True,\n",
    "               'shuffle': True}\n"
   ]
  },
  {
   "cell_type": "code",
   "execution_count": 11,
   "metadata": {},
   "outputs": [],
   "source": [
    "# --------------------------Preparing Dataset ----------------------\n",
    "# Dataset can be chosed from CIFAR10, MNIST, and SVHN\n",
    "Dset = 'MNIST'\n",
    "train_kwargs.update(cuda_kwargs)\n",
    "test_kwargs.update(cuda_kwargs)\n",
    "\n",
    "if Dset == 'MNIST':\n",
    "    transform = transforms.Compose([\n",
    "        transforms.ToTensor(),\n",
    "        transforms.Normalize((0.1307,), (0.3081,))\n",
    "    ])\n",
    "    dataset1 = datasets.MNIST('data', train=True, download=True,\n",
    "                              transform=transform)\n",
    "    dataset2 = datasets.MNIST('data', train=False,\n",
    "                              transform=transform)\n",
    "    res = 28\n",
    "    rgb = False\n",
    "elif Dset == 'SVHN':\n",
    "    transform = transforms.Compose([\n",
    "        transforms.ToTensor(),\n",
    "    ])\n",
    "    dataset = datasets.SVHN('data', download=True, transform=transform)\n",
    "    from torch.utils.data import random_split\n",
    "\n",
    "    val_size = 5000\n",
    "    random_seed = 42\n",
    "    torch.manual_seed(random_seed)\n",
    "    train_size = len(dataset) - val_size\n",
    "    dataset1, dataset2 = random_split(dataset, [train_size, val_size])\n",
    "    res = 32\n",
    "    rgb = True\n",
    "elif Dset == 'CIFAR':\n",
    "    transform = transforms.Compose([\n",
    "        transforms.ToTensor(),\n",
    "    ])\n",
    "    dataset1 = datasets.CIFAR10(root='data', train=True, download=True, transform=transform)\n",
    "    dataset2 = datasets.CIFAR10(root='data', train=False, download=True, transform=transform)\n",
    "\n",
    "    res = 32\n",
    "    rgb = True\n",
    "\n",
    "train_loader = torch.utils.data.DataLoader(dataset1, **train_kwargs)\n",
    "test_loader = torch.utils.data.DataLoader(dataset2, **test_kwargs)"
   ]
  },
  {
   "cell_type": "code",
   "execution_count": null,
   "metadata": {},
   "outputs": [],
   "source": [
    "# prepare model\n",
    "model = TinyModel(False, res, rgb)\n",
    "model.cuda()  # we use cuda default\n",
    "optimizer = optim.Adam(model.parameters(), lr=0.001, weight_decay=1e-4)\n",
    "\n",
    "# training for 30 epochs\n",
    "epochs = 100\n",
    "scheduler = CosineAnnealingLR(optimizer, T_max=epochs, )\n",
    "\n",
    "for epoch in range(1, epochs + 1):\n",
    "    train(model, device, train_loader, optimizer, epoch)\n",
    "    test(model, device, test_loader)\n",
    "    scheduler.step()\n",
    "    \n",
    "    \n",
    "#for this step, if running code in macOS, might given error; but in windows might not.\n",
    "#there is special situation for CUDA used in different system"
   ]
  },
  {
   "cell_type": "code",
   "execution_count": 12,
   "metadata": {},
   "outputs": [],
   "source": [
    "#Here is figure part\n",
    "# import packages\n",
    "import numpy as np\n",
    "from matplotlib import pyplot as plt"
   ]
  },
  {
   "cell_type": "code",
   "execution_count": 13,
   "metadata": {},
   "outputs": [
    {
     "data": {
      "image/png": "[encoded data removed]",
      "text/plain": [
       "<Figure size 720x600 with 1 Axes>"
      ]
     },
     "metadata": {
      "needs_background": "light"
     },
     "output_type": "display_data"
    }
   ],
   "source": [
    "# total 3 bars (MNIST, SVHN, CIFAR10)\n",
    "N = 3\n",
    "\n",
    "# setup color names\n",
    "color1 = 'firebrick'\n",
    "color2 = 'steelblue'\n",
    "color3 = 'darkcyan'\n",
    "color4 = 'darkorange'\n",
    "\n",
    "# test accuracy obtained from `test.py`,\n",
    "# bar1 is the model been binarized, while\n",
    "# bar2 is the 32-bit floating-point model\n",
    "bar1 = [98.04, 83.02, 62.94]\n",
    "bar2 = [98.52, 86.42, 63.62]\n",
    "\n",
    "# setup figure,\n",
    "fig = plt.figure(dpi=120, figsize=[6, 5])\n",
    "plt.rc(\"xtick\", labelsize=14)  # fontsize of the tick labels\n",
    "plt.rc(\"ytick\", labelsize=14)\n",
    "# only one plot here\n",
    "ax = plt.subplot(111)\n",
    "# setup grid in y axis for better visualization\n",
    "ax.grid('on', axis='y', linestyle='-.', zorder=0)\n",
    "ind = np.arange(1, N+1)    # the x locations for the groups\n",
    "width = 0.3         # the width of the bars\n",
    "# plot histogram\n",
    "p1 = ax.bar([i-0.5*width for i in ind], bar1, width, bottom=0, zorder=3, color=color2, alpha=0.8)\n",
    "p2 = ax.bar([i+0.5*width for i in ind], bar2, width, zorder=3, color=color1, alpha=0.6)\n",
    "# remove top right axis for better results\n",
    "ax.spines['right'].set_visible(False)\n",
    "ax.spines['top'].set_visible(False)\n",
    "ax.spines['bottom'].set_position('zero')\n",
    "\n",
    "# plt.setp(ax.get_xticklabels(), visible=False)\n",
    "ax.tick_params(axis='x', which='both', length=0)\n",
    "# setup x axis tick label\n",
    "ax.set_xticks(range(1, 4))\n",
    "ax.set_xticklabels(['MNIST', 'SVHN', 'CIFAR10'])\n",
    "ax.set_xlim(0.5, 3.8)\n",
    "ax.set_ylabel('Test Accuracy', fontsize=17)\n",
    "ax.legend((p1[0], p2[0]), ('Binary', 'Full Precision'), prop={'size': 14})\n",
    "plt.show()"
   ]
  },
  {
   "cell_type": "code",
   "execution_count": null,
   "metadata": {},
   "outputs": [],
   "source": []
  }
 ],
 "metadata": {
  "kernelspec": {
   "display_name": "Python 3",
   "language": "python",
   "name": "python3"
  },
  "language_info": {
   "codemirror_mode": {
    "name": "ipython",
    "version": 3
   },
   "file_extension": ".py",
   "mimetype": "text/x-python",
   "name": "python",
   "nbconvert_exporter": "python",
   "pygments_lexer": "ipython3",
   "version": "3.8.5"
  },
  "widgets": {
   "application/vnd.jupyter.widget-state+json": {
    "state": {
     "03c4313204174fe7928eba12cf77e7b1": {
      "model_module": "@jupyter-widgets/base",
      "model_module_version": "1.2.0",
      "model_name": "LayoutModel",
      "state": {}
     },
     "05629bd0dad64f62ab5881c7debe2cfb": {
      "model_module": "@jupyter-widgets/controls",
      "model_module_version": "1.5.0",
      "model_name": "HBoxModel",
      "state": {
       "children": [
        "IPY_MODEL_cb73a772086649a6b00ea0b46489ecb4",
        "IPY_MODEL_b65984a5532542c6817bb0c3bc95b96b",
        "IPY_MODEL_e1143d8396a6432c985ceaa6f5dfd2f9"
       ],
       "layout": "IPY_MODEL_735789558f9b4af7bb6f8ff77b925f8e"
      }
     },
     "1f9f41cec55a4baba5d48a193705a61f": {
      "model_module": "@jupyter-widgets/controls",
      "model_module_version": "1.5.0",
      "model_name": "DescriptionStyleModel",
      "state": {
       "description_width": ""
      }
     },
     "2449855a37854a3f91574cfff629cd72": {
      "model_module": "@jupyter-widgets/base",
      "model_module_version": "1.2.0",
      "model_name": "LayoutModel",
      "state": {}
     },
     "244b797d4de7404ba6177a53c709dbaa": {
      "model_module": "@jupyter-widgets/base",
      "model_module_version": "1.2.0",
      "model_name": "LayoutModel",
      "state": {}
     },
     "247412ed323a4b099ed8f8b3063aef87": {
      "model_module": "@jupyter-widgets/controls",
      "model_module_version": "1.5.0",
      "model_name": "ProgressStyleModel",
      "state": {
       "description_width": ""
      }
     },
     "28472d4e85274042a695afc9eff1dabe": {
      "model_module": "@jupyter-widgets/controls",
      "model_module_version": "1.5.0",
      "model_name": "FloatProgressModel",
      "state": {
       "bar_style": "success",
       "layout": "IPY_MODEL_40c93b5b9dc842e38a61a00c46020f5a",
       "max": 1,
       "style": "IPY_MODEL_247412ed323a4b099ed8f8b3063aef87",
       "value": 1
      }
     },
     "2ddb9bc3543e4335a34138faacb56e07": {
      "model_module": "@jupyter-widgets/base",
      "model_module_version": "1.2.0",
      "model_name": "LayoutModel",
      "state": {}
     },
     "360398bf94c1470baa2d0d7ad42eb572": {
      "model_module": "@jupyter-widgets/controls",
      "model_module_version": "1.5.0",
      "model_name": "HTMLModel",
      "state": {
       "layout": "IPY_MODEL_e8ccda716e544ba282410e145c7c7e60",
       "style": "IPY_MODEL_70740e61bfc94f4d9757610f6d0d206e"
      }
     },
     "3a1b2af2191e46b99c3ed86be69590ab": {
      "model_module": "@jupyter-widgets/controls",
      "model_module_version": "1.5.0",
      "model_name": "ProgressStyleModel",
      "state": {
       "description_width": ""
      }
     },
     "40c93b5b9dc842e38a61a00c46020f5a": {
      "model_module": "@jupyter-widgets/base",
      "model_module_version": "1.2.0",
      "model_name": "LayoutModel",
      "state": {
       "width": "20px"
      }
     },
     "4189098f7dd34c589abd5e6f48741d2f": {
      "model_module": "@jupyter-widgets/base",
      "model_module_version": "1.2.0",
      "model_name": "LayoutModel",
      "state": {}
     },
     "42ce8047392e43b79434d03dc457965f": {
      "model_module": "@jupyter-widgets/controls",
      "model_module_version": "1.5.0",
      "model_name": "ProgressStyleModel",
      "state": {
       "description_width": ""
      }
     },
     "42e5b80f162a44dea803a13dc4aa7385": {
      "model_module": "@jupyter-widgets/base",
      "model_module_version": "1.2.0",
      "model_name": "LayoutModel",
      "state": {}
     },
     "47638b12414d4e90a14a5e4275bb388a": {
      "model_module": "@jupyter-widgets/controls",
      "model_module_version": "1.5.0",
      "model_name": "HTMLModel",
      "state": {
       "layout": "IPY_MODEL_42e5b80f162a44dea803a13dc4aa7385",
       "style": "IPY_MODEL_9665d9240f7946aba1a49ed6a2c4903f",
       "value": " 32768/? [00:00&lt;00:00, 269051.33it/s]"
      }
     },
     "4793352ff0be40c981a0dff246a69753": {
      "model_module": "@jupyter-widgets/base",
      "model_module_version": "1.2.0",
      "model_name": "LayoutModel",
      "state": {
       "width": "20px"
      }
     },
     "49410b360a3340b887be33301cac6a4d": {
      "model_module": "@jupyter-widgets/controls",
      "model_module_version": "1.5.0",
      "model_name": "DescriptionStyleModel",
      "state": {
       "description_width": ""
      }
     },
     "49b0a42260634a43a0571d4a7990518a": {
      "model_module": "@jupyter-widgets/controls",
      "model_module_version": "1.5.0",
      "model_name": "HTMLModel",
      "state": {
       "layout": "IPY_MODEL_2ddb9bc3543e4335a34138faacb56e07",
       "style": "IPY_MODEL_1f9f41cec55a4baba5d48a193705a61f"
      }
     },
     "4c197d1130994fa6ad70856bf2dedfa6": {
      "model_module": "@jupyter-widgets/controls",
      "model_module_version": "1.5.0",
      "model_name": "HBoxModel",
      "state": {
       "children": [
        "IPY_MODEL_360398bf94c1470baa2d0d7ad42eb572",
        "IPY_MODEL_28472d4e85274042a695afc9eff1dabe",
        "IPY_MODEL_57b33812566d4c2d945acb936fd059b9"
       ],
       "layout": "IPY_MODEL_6ec77f03d0564a439fe5d470dffbb608"
      }
     },
     "4cb3404490564743bc18b9a29eecd494": {
      "model_module": "@jupyter-widgets/base",
      "model_module_version": "1.2.0",
      "model_name": "LayoutModel",
      "state": {}
     },
     "57b33812566d4c2d945acb936fd059b9": {
      "model_module": "@jupyter-widgets/controls",
      "model_module_version": "1.5.0",
      "model_name": "HTMLModel",
      "state": {
       "layout": "IPY_MODEL_af816cfbce774bcdbc89599c4d62d7e9",
       "style": "IPY_MODEL_ccab97c4ee144b4fb8fdfc48775238b0",
       "value": " 9920512/? [10:15&lt;00:00, 16130.70it/s]"
      }
     },
     "6ec77f03d0564a439fe5d470dffbb608": {
      "model_module": "@jupyter-widgets/base",
      "model_module_version": "1.2.0",
      "model_name": "LayoutModel",
      "state": {}
     },
     "70740e61bfc94f4d9757610f6d0d206e": {
      "model_module": "@jupyter-widgets/controls",
      "model_module_version": "1.5.0",
      "model_name": "DescriptionStyleModel",
      "state": {
       "description_width": ""
      }
     },
     "735789558f9b4af7bb6f8ff77b925f8e": {
      "model_module": "@jupyter-widgets/base",
      "model_module_version": "1.2.0",
      "model_name": "LayoutModel",
      "state": {}
     },
     "78cb8049346244a8a9a73d71cf196d74": {
      "model_module": "@jupyter-widgets/controls",
      "model_module_version": "1.5.0",
      "model_name": "ProgressStyleModel",
      "state": {
       "description_width": ""
      }
     },
     "7bc77ce851c7472ca5a17eb926635786": {
      "model_module": "@jupyter-widgets/controls",
      "model_module_version": "1.5.0",
      "model_name": "DescriptionStyleModel",
      "state": {
       "description_width": ""
      }
     },
     "9096f0ad65f647c7b7869cbf5c87abbd": {
      "model_module": "@jupyter-widgets/base",
      "model_module_version": "1.2.0",
      "model_name": "LayoutModel",
      "state": {
       "width": "20px"
      }
     },
     "9141c3fabf9f48799c6ccd10088b7a3d": {
      "model_module": "@jupyter-widgets/controls",
      "model_module_version": "1.5.0",
      "model_name": "FloatProgressModel",
      "state": {
       "bar_style": "success",
       "layout": "IPY_MODEL_4793352ff0be40c981a0dff246a69753",
       "max": 1,
       "style": "IPY_MODEL_3a1b2af2191e46b99c3ed86be69590ab",
       "value": 1
      }
     },
     "9665d9240f7946aba1a49ed6a2c4903f": {
      "model_module": "@jupyter-widgets/controls",
      "model_module_version": "1.5.0",
      "model_name": "DescriptionStyleModel",
      "state": {
       "description_width": ""
      }
     },
     "9eeaadb402a5431ea53c90c19e586d99": {
      "model_module": "@jupyter-widgets/controls",
      "model_module_version": "1.5.0",
      "model_name": "HBoxModel",
      "state": {
       "children": [
        "IPY_MODEL_49b0a42260634a43a0571d4a7990518a",
        "IPY_MODEL_9141c3fabf9f48799c6ccd10088b7a3d",
        "IPY_MODEL_d5823135b8dc4fafa4e732ecae98f74d"
       ],
       "layout": "IPY_MODEL_4189098f7dd34c589abd5e6f48741d2f"
      }
     },
     "ab782aae2d0c466a855b6752e7a77e1d": {
      "model_module": "@jupyter-widgets/controls",
      "model_module_version": "1.5.0",
      "model_name": "FloatProgressModel",
      "state": {
       "bar_style": "success",
       "layout": "IPY_MODEL_9096f0ad65f647c7b7869cbf5c87abbd",
       "max": 1,
       "style": "IPY_MODEL_42ce8047392e43b79434d03dc457965f",
       "value": 1
      }
     },
     "af816cfbce774bcdbc89599c4d62d7e9": {
      "model_module": "@jupyter-widgets/base",
      "model_module_version": "1.2.0",
      "model_name": "LayoutModel",
      "state": {}
     },
     "b65984a5532542c6817bb0c3bc95b96b": {
      "model_module": "@jupyter-widgets/controls",
      "model_module_version": "1.5.0",
      "model_name": "FloatProgressModel",
      "state": {
       "bar_style": "success",
       "layout": "IPY_MODEL_d2e74734203c46aa86269fdcf0fe2bcf",
       "max": 1,
       "style": "IPY_MODEL_78cb8049346244a8a9a73d71cf196d74",
       "value": 1
      }
     },
     "c4c1ea62dd604639932b26c63dbfa85f": {
      "model_module": "@jupyter-widgets/controls",
      "model_module_version": "1.5.0",
      "model_name": "HBoxModel",
      "state": {
       "children": [
        "IPY_MODEL_e2fea063ca5248e08365055d4a3171c8",
        "IPY_MODEL_ab782aae2d0c466a855b6752e7a77e1d",
        "IPY_MODEL_47638b12414d4e90a14a5e4275bb388a"
       ],
       "layout": "IPY_MODEL_4cb3404490564743bc18b9a29eecd494"
      }
     },
     "cb73a772086649a6b00ea0b46489ecb4": {
      "model_module": "@jupyter-widgets/controls",
      "model_module_version": "1.5.0",
      "model_name": "HTMLModel",
      "state": {
       "layout": "IPY_MODEL_03c4313204174fe7928eba12cf77e7b1",
       "style": "IPY_MODEL_dcf908fb051e460392e5e9c3f9412cbb"
      }
     },
     "ccab97c4ee144b4fb8fdfc48775238b0": {
      "model_module": "@jupyter-widgets/controls",
      "model_module_version": "1.5.0",
      "model_name": "DescriptionStyleModel",
      "state": {
       "description_width": ""
      }
     },
     "d2e74734203c46aa86269fdcf0fe2bcf": {
      "model_module": "@jupyter-widgets/base",
      "model_module_version": "1.2.0",
      "model_name": "LayoutModel",
      "state": {
       "width": "20px"
      }
     },
     "d5823135b8dc4fafa4e732ecae98f74d": {
      "model_module": "@jupyter-widgets/controls",
      "model_module_version": "1.5.0",
      "model_name": "HTMLModel",
      "state": {
       "layout": "IPY_MODEL_244b797d4de7404ba6177a53c709dbaa",
       "style": "IPY_MODEL_7bc77ce851c7472ca5a17eb926635786",
       "value": " 1654784/? [10:13&lt;00:00, 2698.57it/s]"
      }
     },
     "dcf908fb051e460392e5e9c3f9412cbb": {
      "model_module": "@jupyter-widgets/controls",
      "model_module_version": "1.5.0",
      "model_name": "DescriptionStyleModel",
      "state": {
       "description_width": ""
      }
     },
     "e1143d8396a6432c985ceaa6f5dfd2f9": {
      "model_module": "@jupyter-widgets/controls",
      "model_module_version": "1.5.0",
      "model_name": "HTMLModel",
      "state": {
       "layout": "IPY_MODEL_2449855a37854a3f91574cfff629cd72",
       "style": "IPY_MODEL_49410b360a3340b887be33301cac6a4d",
       "value": " 8192/? [04:21&lt;00:00, 31.32it/s]"
      }
     },
     "e2fea063ca5248e08365055d4a3171c8": {
      "model_module": "@jupyter-widgets/controls",
      "model_module_version": "1.5.0",
      "model_name": "HTMLModel",
      "state": {
       "layout": "IPY_MODEL_e8e54d1910e74f078d349bc030f4bcb0",
       "style": "IPY_MODEL_e4f14d18b61b401abdcddd1893a6ff09"
      }
     },
     "e4f14d18b61b401abdcddd1893a6ff09": {
      "model_module": "@jupyter-widgets/controls",
      "model_module_version": "1.5.0",
      "model_name": "DescriptionStyleModel",
      "state": {
       "description_width": ""
      }
     },
     "e8ccda716e544ba282410e145c7c7e60": {
      "model_module": "@jupyter-widgets/base",
      "model_module_version": "1.2.0",
      "model_name": "LayoutModel",
      "state": {}
     },
     "e8e54d1910e74f078d349bc030f4bcb0": {
      "model_module": "@jupyter-widgets/base",
      "model_module_version": "1.2.0",
      "model_name": "LayoutModel",
      "state": {}
     }
    },
    "version_major": 2,
    "version_minor": 0
   }
  }
 },
 "nbformat": 4,
 "nbformat_minor": 4
}
